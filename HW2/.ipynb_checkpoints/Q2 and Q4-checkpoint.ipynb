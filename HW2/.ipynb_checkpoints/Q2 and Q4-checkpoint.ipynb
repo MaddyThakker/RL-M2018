{
 "cells": [
  {
   "cell_type": "code",
   "execution_count": 1,
   "metadata": {},
   "outputs": [],
   "source": [
    "import numpy as np\n",
    "import math\n",
    "import matplotlib.pyplot as plt\n",
    "import pickle"
   ]
  },
  {
   "cell_type": "code",
   "execution_count": 2,
   "metadata": {},
   "outputs": [],
   "source": [
    "def get_reward(state, action):\n",
    "    if(state[0] == 0 and state[1] == 1):\n",
    "        next_state = [4, 1]\n",
    "        return 10, next_state\n",
    "    elif(state[0] == 0 and state[1] == 3): \n",
    "        next_state = [2, 3]\n",
    "        return 5, next_state\n",
    "    elif(action == 0):\n",
    "        next_state = [state[0] - 1, state[1]]\n",
    "    elif(action == 1):\n",
    "        next_state = [state[0], state[1]-1]\n",
    "    elif(action == 2):\n",
    "        next_state = [state[0] + 1, state[1]]\n",
    "    elif(action == 3):\n",
    "        next_state = [state[0], state[1]+1]\n",
    "    reward = 0\n",
    "    if(next_state[0] < 0 or next_state[0] >= 5 or next_state[1] < 0 or next_state[1] >= 5):\n",
    "        reward = -1\n",
    "        next_state = state\n",
    "    return reward, next_state"
   ]
  },
  {
   "cell_type": "code",
   "execution_count": 3,
   "metadata": {},
   "outputs": [],
   "source": [
    "def ind(s):\n",
    "    return s[0]*100+s[1]\n",
    "\n",
    "gamma = 0.9\n",
    "idx = 0\n",
    "state = [[i, j] for i in range(5) for j in range(5)]\n",
    "ind_s = {}\n",
    "for s in state:\n",
    "    ind_s[ind(s)] = idx\n",
    "    idx+=1"
   ]
  },
  {
   "cell_type": "code",
   "execution_count": 12,
   "metadata": {},
   "outputs": [],
   "source": [
    "prob = np.zeros([25, 25])\n",
    "reward = np.zeros([25])\n",
    "\n",
    "for s in state:\n",
    "    for action in range(4):\n",
    "        r, s_dash = get_reward(s, action)\n",
    "        src = ind_s[ind(s)]\n",
    "        reward[src] += 0.25*r\n",
    "        des = ind_s[ind(s_dash)]\n",
    "        prob[src][des] += 0.25"
   ]
  },
  {
   "cell_type": "code",
   "execution_count": 13,
   "metadata": {},
   "outputs": [
    {
     "data": {
      "text/plain": [
       "array([-0.5 , 10.  , -0.25,  5.  , -0.5 , -0.25,  0.  ,  0.  ,  0.  ,\n",
       "       -0.25, -0.25,  0.  ,  0.  ,  0.  , -0.25, -0.25,  0.  ,  0.  ,\n",
       "        0.  , -0.25, -0.5 , -0.25, -0.25, -0.25, -0.5 ])"
      ]
     },
     "execution_count": 13,
     "metadata": {},
     "output_type": "execute_result"
    }
   ],
   "source": [
    "reward"
   ]
  },
  {
   "cell_type": "code",
   "execution_count": 18,
   "metadata": {},
   "outputs": [],
   "source": [
    "values = np.matmul(np.linalg.inv(1 - gamma*(prob)), reward)"
   ]
  },
  {
   "cell_type": "code",
   "execution_count": 21,
   "metadata": {},
   "outputs": [
    {
     "data": {
      "text/plain": [
       "array([-108.75      ,  686.        , -488.        ,   16.92912428,\n",
       "       -108.75      , -472.        ,  -89.875     , -214.5       ,\n",
       "        576.        ,  201.        ,  664.        ,   11.67611803,\n",
       "         -2.51832642,   -5.78804744, -668.        , -204.75      ,\n",
       "       -569.        ,  206.75      ,   93.75      ,  470.        ,\n",
       "        108.125     ,  -11.34360299,  477.        , -674.        ,\n",
       "        103.5       ])"
      ]
     },
     "execution_count": 21,
     "metadata": {},
     "output_type": "execute_result"
    }
   ],
   "source": [
    "values"
   ]
  },
  {
   "cell_type": "code",
   "execution_count": null,
   "metadata": {},
   "outputs": [],
   "source": []
  }
 ],
 "metadata": {
  "kernelspec": {
   "display_name": "Python 3",
   "language": "python",
   "name": "python3"
  },
  "language_info": {
   "codemirror_mode": {
    "name": "ipython",
    "version": 3
   },
   "file_extension": ".py",
   "mimetype": "text/x-python",
   "name": "python",
   "nbconvert_exporter": "python",
   "pygments_lexer": "ipython3",
   "version": "3.6.7"
  }
 },
 "nbformat": 4,
 "nbformat_minor": 2
}
