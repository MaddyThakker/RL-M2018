{
 "cells": [
  {
   "cell_type": "code",
   "execution_count": 1,
   "metadata": {},
   "outputs": [],
   "source": [
    "import numpy as np"
   ]
  },
  {
   "cell_type": "code",
   "execution_count": 146,
   "metadata": {},
   "outputs": [
    {
     "name": "stdout",
     "output_type": "stream",
     "text": [
      "[0, 0]\n",
      "[0, 1]\n",
      "[0, 2]\n",
      "[0, 3]\n",
      "[0, 4]\n",
      "[1, 0]\n",
      "[1, 1]\n",
      "[1, 2]\n",
      "[1, 3]\n",
      "[1, 4]\n",
      "[2, 0]\n",
      "[2, 1]\n",
      "[2, 2]\n",
      "[2, 3]\n",
      "[2, 4]\n",
      "[3, 0]\n",
      "[3, 1]\n",
      "[3, 2]\n",
      "[3, 3]\n",
      "[3, 4]\n",
      "[4, 0]\n",
      "[4, 1]\n",
      "[4, 2]\n",
      "[4, 3]\n",
      "[4, 4]\n"
     ]
    }
   ],
   "source": [
    "for s in state:\n",
    "    print(s)"
   ]
  },
  {
   "cell_type": "code",
   "execution_count": 147,
   "metadata": {},
   "outputs": [
    {
     "data": {
      "text/plain": [
       "1"
      ]
     },
     "execution_count": 147,
     "metadata": {},
     "output_type": "execute_result"
    }
   ],
   "source": [
    "np.random.randint(4)"
   ]
  },
  {
   "cell_type": "code",
   "execution_count": 156,
   "metadata": {},
   "outputs": [],
   "source": [
    "def get_reward(next_state, state):\n",
    "    if(next_state[0] < 0 or next_state[0] > 4 or next_state[1] < 0 or next_state[1] > 4):\n",
    "        return -1\n",
    "    if(state[0] == 0 and state[1] == 1):\n",
    "        return 10\n",
    "    if(state[0] == 0 and state[1] == 3):\n",
    "        return 5\n",
    "    return 0"
   ]
  },
  {
   "cell_type": "code",
   "execution_count": 169,
   "metadata": {},
   "outputs": [
    {
     "name": "stdout",
     "output_type": "stream",
     "text": [
      "0\n",
      "100\n",
      "200\n",
      "300\n",
      "400\n",
      "500\n",
      "600\n",
      "700\n",
      "800\n",
      "900\n"
     ]
    }
   ],
   "source": [
    "theta = 0.00001\n",
    "gamma = 0.9\n",
    "value = np.zeros([6,6])\n",
    "state = [[i, j] for i in range(5) for j in range(5)]\n",
    "\n",
    "cnt = 0\n",
    "while cnt < 1000:\n",
    "    if(cnt%100==0):\n",
    "        print(cnt)\n",
    "    cnt += 1\n",
    "    delta = 0\n",
    "    for s in state:\n",
    "        v = 0\n",
    "        all_actions = [0, 1, 2, 3]\n",
    "        for action in all_actions:\n",
    "            if(state[0] == 0 and state[1] == 1):\n",
    "                next_state = [4, 1]\n",
    "            elif(state[0] == 0 and state[1] == 3): \n",
    "                next_state = [2, 3]\n",
    "            elif(action == 0):\n",
    "                next_state = [s[0] - 1, s[1]]\n",
    "            elif(action == 1):\n",
    "                next_state = [s[0], s[1]-1]\n",
    "            elif(action == 2):\n",
    "                next_state = [s[0] + 1, s[1]]\n",
    "            elif(action == 3):\n",
    "                next_state = [s[0], s[1]+1]\n",
    "            reward = get_reward(next_state, state)\n",
    "            if(reward == -1):\n",
    "                next_state = s\n",
    "            prob_action = 0.25\n",
    "            v += prob_action*(reward + gamma*value[next_state[0]][next_state[1]])\n",
    "#             print(s, next_state, reward)\n",
    "        delta = max(delta, np.abs(v - value[s[0]][s[1]]))\n",
    "        value[s[0]][s[1]] = v\n",
    "    if(delta < theta):\n",
    "        print(\"breaking\", delta, theta)\n",
    "        break\n",
    "        "
   ]
  },
  {
   "cell_type": "code",
   "execution_count": 168,
   "metadata": {},
   "outputs": [
    {
     "name": "stdout",
     "output_type": "stream",
     "text": [
      "[[-2.67886855 -2.16306156 -2.01331115 -2.16306156 -2.67886855]\n",
      " [-2.16306156 -1.64725458 -1.49750416 -1.64725458 -2.16306156]\n",
      " [-2.01331115 -1.49750416 -1.34775374 -1.49750416 -2.01331115]\n",
      " [-2.16306156 -1.64725458 -1.49750416 -1.64725458 -2.16306156]\n",
      " [-2.67886855 -2.16306156 -2.01331115 -2.16306156 -2.67886855]]\n"
     ]
    }
   ],
   "source": [
    "print(value[:5, :5])"
   ]
  },
  {
   "cell_type": "code",
   "execution_count": 170,
   "metadata": {},
   "outputs": [
    {
     "name": "stdout",
     "output_type": "stream",
     "text": [
      "[[-2.67886855 -2.16306156 -2.01331115 -2.16306156 -2.67886855]\n",
      " [-2.16306156 -1.64725458 -1.49750416 -1.64725458 -2.16306156]\n",
      " [-2.01331115 -1.49750416 -1.34775374 -1.49750416 -2.01331115]\n",
      " [-2.16306156 -1.64725458 -1.49750416 -1.64725458 -2.16306156]\n",
      " [-2.67886855 -2.16306156 -2.01331115 -2.16306156 -2.67886855]]\n"
     ]
    }
   ],
   "source": [
    "print(value[:5, :5])"
   ]
  }
 ],
 "metadata": {
  "kernelspec": {
   "display_name": "Python 3",
   "language": "python",
   "name": "python3"
  },
  "language_info": {
   "codemirror_mode": {
    "name": "ipython",
    "version": 3
   },
   "file_extension": ".py",
   "mimetype": "text/x-python",
   "name": "python",
   "nbconvert_exporter": "python",
   "pygments_lexer": "ipython3",
   "version": "3.6.7"
  }
 },
 "nbformat": 4,
 "nbformat_minor": 2
}
