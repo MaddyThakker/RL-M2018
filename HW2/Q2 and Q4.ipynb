{
 "cells": [
  {
   "cell_type": "code",
   "execution_count": 35,
   "metadata": {},
   "outputs": [],
   "source": [
    "import numpy as np\n",
    "import math\n",
    "import matplotlib.pyplot as plt\n",
    "import pickle"
   ]
  },
  {
   "cell_type": "code",
   "execution_count": 36,
   "metadata": {},
   "outputs": [],
   "source": [
    "def get_reward(state, action):\n",
    "    # given the state and action, returns the next_state and reward obtained.\n",
    "    if(state[0] == 0 and state[1] == 1):\n",
    "        next_state = [4, 1]\n",
    "        return 10, next_state\n",
    "    elif(state[0] == 0 and state[1] == 3): \n",
    "        next_state = [2, 3]\n",
    "        return 5, next_state\n",
    "    elif(action == 0):\n",
    "        next_state = [state[0] - 1, state[1]]\n",
    "    elif(action == 1):\n",
    "        next_state = [state[0], state[1]-1]\n",
    "    elif(action == 2):\n",
    "        next_state = [state[0] + 1, state[1]]\n",
    "    elif(action == 3):\n",
    "        next_state = [state[0], state[1]+1]\n",
    "    reward = 0\n",
    "    if(next_state[0] < 0 or next_state[0] >= 5 or next_state[1] < 0 or next_state[1] >= 5):\n",
    "        reward = -1\n",
    "        next_state = state\n",
    "    return reward, next_state"
   ]
  },
  {
   "cell_type": "code",
   "execution_count": 57,
   "metadata": {},
   "outputs": [],
   "source": [
    "def ind(s):\n",
    "    # a hash function to store the 2D states as 1D in map.\n",
    "    return s[0]*100+s[1]\n",
    "gamma = 0.9\n",
    "idx = 0\n",
    "state = [[i, j] for i in range(5) for j in range(5)]\n",
    "\n",
    "ind_s = {} # dictionary that maps states to indices. \n",
    "for s in state:\n",
    "    ind_s[ind(s)] = idx\n",
    "    idx+=1"
   ]
  },
  {
   "cell_type": "markdown",
   "metadata": {},
   "source": [
    "### Figure 3.5"
   ]
  },
  {
   "cell_type": "code",
   "execution_count": 58,
   "metadata": {},
   "outputs": [],
   "source": [
    "#Reference - http://www0.cs.ucl.ac.uk/staff/d.silver/web/Teaching_files/MDP.pdf\n",
    "prob = np.zeros([25, 25])\n",
    "reward = np.zeros([25])\n",
    "for s in state:\n",
    "    for action in range(4):\n",
    "        r, s_dash = get_reward(s, action) # for each state and each action, get next state and corresponding reward\n",
    "        src = ind_s[ind(s)] \n",
    "        reward[src] += 0.25*r # added in reward of source\n",
    "        des = ind_s[ind(s_dash)]\n",
    "        prob[src][des] += 0.25 # probabilities of going from state a to state b"
   ]
  },
  {
   "cell_type": "code",
   "execution_count": 59,
   "metadata": {},
   "outputs": [],
   "source": [
    "# v(s) = E[R_{t+1} + gamma*v(s_dash) | s_t = s]\n",
    "# v(s) = R_s + gamma*sum(prob[s][s_dash]*v(s_dash))\n",
    "# v = r + gammma*p*v\n",
    "# (I - gamma*p)*v = r\n",
    "# v = inv((I - gamma*p))*r\n",
    "values = np.matmul(np.linalg.inv(np.identity(25) - gamma*(prob)), reward)"
   ]
  },
  {
   "cell_type": "code",
   "execution_count": 60,
   "metadata": {
    "scrolled": false
   },
   "outputs": [
    {
     "data": {
      "text/plain": [
       "array([[ 3.3,  8.8,  4.4,  5.3,  1.5],\n",
       "       [ 1.5,  3. ,  2.3,  1.9,  0.5],\n",
       "       [ 0.1,  0.7,  0.7,  0.4, -0.4],\n",
       "       [-1. , -0.4, -0.4, -0.6, -1.2],\n",
       "       [-1.9, -1.3, -1.2, -1.4, -2. ]])"
      ]
     },
     "execution_count": 60,
     "metadata": {},
     "output_type": "execute_result"
    }
   ],
   "source": [
    "values.round(1).reshape(5,5)"
   ]
  },
  {
   "cell_type": "markdown",
   "metadata": {},
   "source": [
    "### Figure 3.5"
   ]
  },
  {
   "cell_type": "code",
   "execution_count": 71,
   "metadata": {},
   "outputs": [],
   "source": [
    "action_star = [ [ [] for i in range(5) ] for j in range(5) ] # optimal actions\n",
    "value_star = np.zeros([5, 5]) # optimal_values\n",
    "theta = 1e-20 # convergence after theta\n"
   ]
  },
  {
   "cell_type": "code",
   "execution_count": 72,
   "metadata": {},
   "outputs": [
    {
     "name": "stdout",
     "output_type": "stream",
     "text": [
      "breaking 0 1e-20\n"
     ]
    }
   ],
   "source": [
    "chars = np.array(['^', '<', 'd', '>'])\n",
    "while True:\n",
    "    delta = 0\n",
    "    for s in state:\n",
    "        v_iter = []\n",
    "        all_actions = [0, 1, 2, 3]\n",
    "        for action in all_actions:\n",
    "            reward, next_state = get_reward(s, action)\n",
    "            v_iter.append((reward + gamma*value_star[next_state[0]][next_state[1]])) \n",
    "        v = max(v_iter)\n",
    "        v_iter = np.array(v_iter) #has reward for each action for this state\n",
    "        actions = chars[np.argwhere(v_iter == np.amax(v_iter)).ravel()] # choosing the best action\n",
    "        delta = max(delta, np.abs(v - value_star[s[0]][s[1]]))\n",
    "        value_star[s[0]][s[1]] = v\n",
    "        action_star[s[0]][s[1]] = actions\n",
    "        \n",
    "    if(delta < theta):\n",
    "        print(\"breaking\", delta, theta)\n",
    "        break\n",
    "        "
   ]
  },
  {
   "cell_type": "code",
   "execution_count": 73,
   "metadata": {
    "scrolled": true
   },
   "outputs": [
    {
     "name": "stdout",
     "output_type": "stream",
     "text": [
      "[[22.  24.4 22.  19.4 17.5]\n",
      " [19.8 22.  19.8 17.8 16. ]\n",
      " [17.8 19.8 17.8 16.  14.4]\n",
      " [16.  17.8 16.  14.4 13. ]\n",
      " [14.4 16.  14.4 13.  11.7]]\n"
     ]
    }
   ],
   "source": [
    "print(np.around(value_star, decimals=1))"
   ]
  },
  {
   "cell_type": "code",
   "execution_count": 84,
   "metadata": {
    "scrolled": true
   },
   "outputs": [
    {
     "name": "stdout",
     "output_type": "stream",
     "text": [
      "['>'],['^' '<' 'd' '>'],['<'],['^' '<' 'd' '>'],['<'],\n",
      "['^' '>'],['^'],['^' '<'],['<'],['<'],\n",
      "['^' '>'],['^'],['^' '<'],['^' '<'],['^' '<'],\n",
      "['^' '>'],['^'],['^' '<'],['^' '<'],['^' '<'],\n",
      "['^' '>'],['^'],['^' '<'],['^' '<'],['^' '<'],\n"
     ]
    }
   ],
   "source": [
    "for x in action_star:\n",
    "    for y in x:\n",
    "        print(y, end= ',')\n",
    "    print()"
   ]
  },
  {
   "cell_type": "code",
   "execution_count": null,
   "metadata": {},
   "outputs": [],
   "source": []
  }
 ],
 "metadata": {
  "kernelspec": {
   "display_name": "Python 3",
   "language": "python",
   "name": "python3"
  },
  "language_info": {
   "codemirror_mode": {
    "name": "ipython",
    "version": 3
   },
   "file_extension": ".py",
   "mimetype": "text/x-python",
   "name": "python",
   "nbconvert_exporter": "python",
   "pygments_lexer": "ipython3",
   "version": "3.6.7"
  }
 },
 "nbformat": 4,
 "nbformat_minor": 2
}
